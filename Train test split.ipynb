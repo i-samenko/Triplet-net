{
 "cells": [
  {
   "cell_type": "code",
   "execution_count": 1,
   "metadata": {
    "ExecuteTime": {
     "end_time": "2019-12-10T10:53:47.779715Z",
     "start_time": "2019-12-10T10:53:47.776713Z"
    }
   },
   "outputs": [],
   "source": [
    "import pandas as pd\n",
    "import numpy as np"
   ]
  },
  {
   "cell_type": "code",
   "execution_count": 2,
   "metadata": {
    "ExecuteTime": {
     "end_time": "2019-12-10T11:01:37.077495Z",
     "start_time": "2019-12-10T11:01:37.002500Z"
    }
   },
   "outputs": [
    {
     "name": "stdout",
     "output_type": "stream",
     "text": [
      "(99832, 3)\n"
     ]
    },
    {
     "data": {
      "text/html": [
       "<div>\n",
       "<style scoped>\n",
       "    .dataframe tbody tr th:only-of-type {\n",
       "        vertical-align: middle;\n",
       "    }\n",
       "\n",
       "    .dataframe tbody tr th {\n",
       "        vertical-align: top;\n",
       "    }\n",
       "\n",
       "    .dataframe thead th {\n",
       "        text-align: right;\n",
       "    }\n",
       "</style>\n",
       "<table border=\"1\" class=\"dataframe\">\n",
       "  <thead>\n",
       "    <tr style=\"text-align: right;\">\n",
       "      <th></th>\n",
       "      <th>left</th>\n",
       "      <th>right</th>\n",
       "      <th>type</th>\n",
       "    </tr>\n",
       "  </thead>\n",
       "  <tbody>\n",
       "    <tr>\n",
       "      <th>0</th>\n",
       "      <td>unnecessary</td>\n",
       "      <td>necessary</td>\n",
       "      <td>A</td>\n",
       "    </tr>\n",
       "    <tr>\n",
       "      <th>1</th>\n",
       "      <td>harmful</td>\n",
       "      <td>harmless</td>\n",
       "      <td>A</td>\n",
       "    </tr>\n",
       "    <tr>\n",
       "      <th>2</th>\n",
       "      <td>undesirable</td>\n",
       "      <td>unwanted</td>\n",
       "      <td>S</td>\n",
       "    </tr>\n",
       "    <tr>\n",
       "      <th>3</th>\n",
       "      <td>undesirable</td>\n",
       "      <td>desirable</td>\n",
       "      <td>A</td>\n",
       "    </tr>\n",
       "    <tr>\n",
       "      <th>4</th>\n",
       "      <td>specific</td>\n",
       "      <td>general</td>\n",
       "      <td>A</td>\n",
       "    </tr>\n",
       "  </tbody>\n",
       "</table>\n",
       "</div>"
      ],
      "text/plain": [
       "          left      right type\n",
       "0  unnecessary  necessary    A\n",
       "1      harmful   harmless    A\n",
       "2  undesirable   unwanted    S\n",
       "3  undesirable  desirable    A\n",
       "4     specific    general    A"
      ]
     },
     "execution_count": 2,
     "metadata": {},
     "output_type": "execute_result"
    }
   ],
   "source": [
    "df = pd.read_csv('./data.csv', nrows=200000)\n",
    "df.columns = ['left', 'right', 'type']\n",
    "print(df.shape)\n",
    "df.head()"
   ]
  },
  {
   "cell_type": "code",
   "execution_count": 3,
   "metadata": {},
   "outputs": [
    {
     "name": "stdout",
     "output_type": "stream",
     "text": [
      "total objects in use: 80080 of 99832\n",
      "train len: 65292\n",
      "test len: 14788\n",
      "train unique words count: 26264\n",
      "test unique words count: 8737\n"
     ]
    }
   ],
   "source": [
    "train_ls = []\n",
    "test_ls = []\n",
    "train_set = set()\n",
    "test_set = set()\n",
    "\n",
    "for _, row in df.iterrows():\n",
    "    if _%4 == 0:\n",
    "#         'try put in test'\n",
    "        if row['left'] not in train_set and \\\n",
    "           row['right'] not in train_set:\n",
    "            test_set.add(row['left'])\n",
    "            test_set.add(row['right'])\n",
    "            test_ls.append(_)\n",
    "        elif row['left'] not in test_set and \\\n",
    "           row['right'] not in test_set:\n",
    "            train_set.add(row['left'])\n",
    "            train_set.add(row['right'])\n",
    "            train_ls.append(_)\n",
    "            \n",
    "    else:\n",
    "#         'try put in train'\n",
    "        if row['left'] not in test_set and \\\n",
    "           row['right'] not in test_set:\n",
    "            train_set.add(row['left'])\n",
    "            train_set.add(row['right'])\n",
    "            train_ls.append(_)\n",
    "        elif row['left'] not in train_set and \\\n",
    "             row['right'] not in train_set:\n",
    "            test_set.add(row['left'])\n",
    "            test_set.add(row['right'])\n",
    "            test_ls.append(_)\n",
    "    \n",
    "print('total objects in use:', len(train_ls)+len(test_ls), 'of', df.shape[0])\n",
    "print('train len:', len(train_ls))\n",
    "print('test len:', len(test_ls))\n",
    "print('train unique words count:', len(train_set))\n",
    "print('test unique words count:', len(test_set))"
   ]
  },
  {
   "cell_type": "code",
   "execution_count": 15,
   "metadata": {},
   "outputs": [],
   "source": [
    "test = df.iloc[test_ls].copy()"
   ]
  },
  {
   "cell_type": "code",
   "execution_count": 16,
   "metadata": {},
   "outputs": [],
   "source": [
    "train = df.iloc[train_ls].copy()"
   ]
  },
  {
   "cell_type": "code",
   "execution_count": 19,
   "metadata": {},
   "outputs": [],
   "source": [
    "train.to_csv('../data/tmp_data/train65k.csv', index=False)\n",
    "test.to_csv('../data/tmp_data/test14k.csv', index=False)"
   ]
  },
  {
   "cell_type": "code",
   "execution_count": 23,
   "metadata": {},
   "outputs": [
    {
     "data": {
      "text/plain": [
       "80080"
      ]
     },
     "execution_count": 23,
     "metadata": {},
     "output_type": "execute_result"
    }
   ],
   "source": [
    "train.shape[0] + test.shape[0]"
   ]
  },
  {
   "cell_type": "code",
   "execution_count": null,
   "metadata": {},
   "outputs": [],
   "source": []
  },
  {
   "cell_type": "code",
   "execution_count": 5,
   "metadata": {
    "ExecuteTime": {
     "end_time": "2019-12-10T11:07:05.714049Z",
     "start_time": "2019-12-10T11:07:05.711023Z"
    }
   },
   "outputs": [
    {
     "data": {
      "text/plain": [
       "set()"
      ]
     },
     "execution_count": 5,
     "metadata": {},
     "output_type": "execute_result"
    }
   ],
   "source": [
    "train_set & test_set"
   ]
  }
 ],
 "metadata": {
  "kernelspec": {
   "display_name": "Python 3",
   "language": "python",
   "name": "python3"
  },
  "language_info": {
   "codemirror_mode": {
    "name": "ipython",
    "version": 3
   },
   "file_extension": ".py",
   "mimetype": "text/x-python",
   "name": "python",
   "nbconvert_exporter": "python",
   "pygments_lexer": "ipython3",
   "version": "3.7.6"
  },
  "toc": {
   "base_numbering": 1,
   "nav_menu": {},
   "number_sections": true,
   "sideBar": true,
   "skip_h1_title": false,
   "title_cell": "Table of Contents",
   "title_sidebar": "Contents",
   "toc_cell": false,
   "toc_position": {},
   "toc_section_display": true,
   "toc_window_display": false
  }
 },
 "nbformat": 4,
 "nbformat_minor": 2
}
