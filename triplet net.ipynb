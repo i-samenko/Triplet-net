{
 "cells": [
  {
   "cell_type": "code",
   "execution_count": 1,
   "metadata": {},
   "outputs": [],
   "source": [
    "import numpy as np\n",
    "import random\n",
    "import pickle\n",
    "from tqdm import tqdm\n",
    "\n",
    "import torch\n",
    "import torch.nn as nn\n",
    "import torch.nn.functional as F\n",
    "from torch.utils.data import Dataset\n",
    "\n",
    "from torch import optim\n",
    "from torch.optim import lr_scheduler\n",
    "\n",
    "import matplotlib.pyplot as plt\n",
    "from IPython.display import clear_output"
   ]
  },
  {
   "cell_type": "code",
   "execution_count": 2,
   "metadata": {},
   "outputs": [],
   "source": [
    "class TripletLoss(nn.Module):\n",
    "    \"\"\"\n",
    "    Triplet loss\n",
    "    Takes embeddings of an anchor sample, a positive sample and a negative sample\n",
    "    \"\"\"\n",
    "\n",
    "    def __init__(self, margin):\n",
    "        super(TripletLoss, self).__init__()\n",
    "        self.margin = margin\n",
    "\n",
    "    def forward(self, anchor, positive, negative, size_average=True):\n",
    "        distance_positive = (anchor - positive).pow(2).sum(1)  # .pow(.5)\n",
    "        distance_negative = (anchor - negative).pow(2).sum(1)  # .pow(.5)\n",
    "        losses = F.relu(distance_positive - distance_negative + self.margin)\n",
    "        return losses.mean() if size_average else losses.sum()"
   ]
  },
  {
   "cell_type": "code",
   "execution_count": 3,
   "metadata": {},
   "outputs": [],
   "source": [
    "class TripletNet(nn.Module):\n",
    "    def __init__(self, embedding_net):\n",
    "        super(TripletNet, self).__init__()\n",
    "        self.embedding_net = embedding_net\n",
    "\n",
    "    def forward(self, anchor, positive, negative):\n",
    "        output1 = self.embedding_net(anchor)\n",
    "        output2 = self.embedding_net(positive)\n",
    "        output3 = self.embedding_net(negative)\n",
    "        return output1, output2, output3\n"
   ]
  },
  {
   "cell_type": "code",
   "execution_count": 4,
   "metadata": {},
   "outputs": [],
   "source": [
    "class EmbeddingNet(nn.Module):\n",
    "    def __init__(self):\n",
    "        super(EmbeddingNet, self).__init__()\n",
    "        \n",
    "        self.fc = nn.Sequential(nn.Linear(300, 100),\n",
    "                                nn.PReLU(),\n",
    "                                nn.Linear(100, 2))        \n",
    "\n",
    "    def forward(self, x):\n",
    "        output = self.fc(x)\n",
    "        return output\n",
    "\n",
    "    def get_embedding(self, x):\n",
    "        return self.forward(x)\n"
   ]
  },
  {
   "cell_type": "code",
   "execution_count": 5,
   "metadata": {},
   "outputs": [],
   "source": [
    "class TripletDataset(Dataset):\n",
    "\n",
    "    def __init__(self, dataset):\n",
    "        self.dataset = dataset\n",
    "        self.keys = list(dataset.keys())\n",
    "\n",
    "    def __getitem__(self, index):\n",
    "        word = self.keys[index]\n",
    "        \n",
    "        anchor = self.dataset[word]['word_vector'] \n",
    "        positive = self.dataset[word]['antonym_vector']\n",
    "        \n",
    "        negative_word = word\n",
    "        while (negative_word == word) | (negative_word == self.dataset[word]['antonym']):\n",
    "            negative_word = np.random.choice(self.keys)    \n",
    "            negative = self.dataset[negative_word]['word_vector']\n",
    "        \n",
    "        \n",
    "        return (anchor, positive, negative), []\n",
    "\n",
    "    def __len__(self):\n",
    "        return len(self.dataset)"
   ]
  },
  {
   "cell_type": "code",
   "execution_count": 6,
   "metadata": {},
   "outputs": [],
   "source": [
    "def plotter(history):\n",
    "    _hist = np.array(history)\n",
    "    train_loss, val_loss = _hist[:, 1], _hist[:, 2]\n",
    "\n",
    "    clear_output(True)\n",
    "    plt.figure(figsize=(12, 4))\n",
    "    # plt.subplot(1, 2, 1)\n",
    "    plt.title('loss')\n",
    "    plt.plot(train_loss, label='train loss')\n",
    "    plt.plot(val_loss, label='vall loss')\n",
    "    plt.grid()\n",
    "    plt.legend()\n",
    "\n",
    "    plt.show()\n",
    "    \n",
    "    for epoch, train_loss, val_loss in history:\n",
    "        print(f'Epoch {epoch}')\n",
    "        print('Train Loss: {:.4f}'.format(train_loss),\n",
    "              '| Val Loss: {:.4f}'.format(val_loss))\n",
    "        print()\n"
   ]
  },
  {
   "cell_type": "code",
   "execution_count": 7,
   "metadata": {},
   "outputs": [
    {
     "data": {
      "text/plain": [
       "5120"
      ]
     },
     "execution_count": 7,
     "metadata": {},
     "output_type": "execute_result"
    }
   ],
   "source": [
    "with open('./fasttext-wiki-news-subwords-300_5120.pickle', 'rb') as f:\n",
    "    data = pickle.load(f)\n",
    "len(data)"
   ]
  },
  {
   "cell_type": "code",
   "execution_count": 8,
   "metadata": {},
   "outputs": [
    {
     "data": {
      "text/plain": [
       "(4000, 1120)"
      ]
     },
     "execution_count": 8,
     "metadata": {},
     "output_type": "execute_result"
    }
   ],
   "source": [
    "train = dict(list(data.items())[:4000])\n",
    "val = dict(list(data.items())[4000:])\n",
    "\n",
    "len(train), len(val)"
   ]
  },
  {
   "cell_type": "code",
   "execution_count": null,
   "metadata": {},
   "outputs": [],
   "source": []
  },
  {
   "cell_type": "code",
   "execution_count": 9,
   "metadata": {},
   "outputs": [],
   "source": [
    "triplet_train_dataset = TripletDataset(train) \n",
    "train_loader = torch.utils.data.DataLoader(triplet_train_dataset, batch_size=31, shuffle=True)\n",
    "\n",
    "triplet_val_dataset = TripletDataset(val) \n",
    "val_loader = torch.utils.data.DataLoader(triplet_train_dataset, batch_size=31, shuffle=True)\n"
   ]
  },
  {
   "cell_type": "code",
   "execution_count": 10,
   "metadata": {},
   "outputs": [],
   "source": [
    "embedding_net = EmbeddingNet()\n",
    "model = TripletNet(embedding_net)\n",
    "loss_fn = TripletLoss(margin = 1.)\n"
   ]
  },
  {
   "cell_type": "code",
   "execution_count": null,
   "metadata": {},
   "outputs": [],
   "source": []
  },
  {
   "cell_type": "code",
   "execution_count": 11,
   "metadata": {},
   "outputs": [],
   "source": [
    "lr = 1e-3\n",
    "\n",
    "optimizer = optim.Adam(model.parameters(), lr=lr)\n",
    "scheduler = lr_scheduler.StepLR(optimizer, step_size=8, gamma=0.1, last_epoch=-1)\n",
    "log_interval = 100"
   ]
  },
  {
   "cell_type": "code",
   "execution_count": null,
   "metadata": {},
   "outputs": [],
   "source": []
  },
  {
   "cell_type": "code",
   "execution_count": 12,
   "metadata": {},
   "outputs": [
    {
     "data": {
      "image/png": "[encoded data removed]",
      "text/plain": [
       "<Figure size 864x288 with 1 Axes>"
      ]
     },
     "metadata": {
      "needs_background": "light"
     },
     "output_type": "display_data"
    },
    {
     "name": "stdout",
     "output_type": "stream",
     "text": [
      "Epoch 0\n",
      "Train Loss: 0.6396 | Val Loss: 0.3673\n",
      "\n",
      "Epoch 1\n",
      "Train Loss: 0.3156 | Val Loss: 0.2958\n",
      "\n",
      "Epoch 2\n",
      "Train Loss: 0.2676 | Val Loss: 0.2717\n",
      "\n",
      "Epoch 3\n",
      "Train Loss: 0.2696 | Val Loss: 0.2502\n",
      "\n",
      "Epoch 4\n",
      "Train Loss: 0.2442 | Val Loss: 0.2222\n",
      "\n",
      "Epoch 5\n",
      "Train Loss: 0.2119 | Val Loss: 0.2135\n",
      "\n",
      "Epoch 6\n",
      "Train Loss: 0.2186 | Val Loss: 0.2118\n",
      "\n",
      "Epoch 7\n",
      "Train Loss: 0.2057 | Val Loss: 0.2036\n",
      "\n",
      "Epoch 8\n",
      "Train Loss: 0.1991 | Val Loss: 0.1937\n",
      "\n",
      "Epoch 9\n",
      "Train Loss: 0.2023 | Val Loss: 0.2047\n",
      "\n",
      "Epoch 10\n",
      "Train Loss: 0.1901 | Val Loss: 0.2072\n",
      "\n",
      "Epoch 11\n",
      "Train Loss: 0.1946 | Val Loss: 0.1937\n",
      "\n",
      "Epoch 12\n",
      "Train Loss: 0.2067 | Val Loss: 0.2130\n",
      "\n",
      "Epoch 13\n",
      "Train Loss: 0.2030 | Val Loss: 0.1874\n",
      "\n",
      "Epoch 14\n",
      "Train Loss: 0.1891 | Val Loss: 0.1929\n",
      "\n",
      "Epoch 15\n",
      "Train Loss: 0.1971 | Val Loss: 0.1984\n",
      "\n",
      "Epoch 16\n",
      "Train Loss: 0.1839 | Val Loss: 0.1978\n",
      "\n",
      "Epoch 17\n",
      "Train Loss: 0.2035 | Val Loss: 0.1915\n",
      "\n",
      "Epoch 18\n",
      "Train Loss: 0.2036 | Val Loss: 0.1917\n",
      "\n",
      "Epoch 19\n",
      "Train Loss: 0.1973 | Val Loss: 0.1896\n",
      "\n"
     ]
    }
   ],
   "source": [
    "n_epochs = 20\n",
    "\n",
    "train_len = len(train_loader)\n",
    "val_len = len(val_loader)\n",
    "\n",
    "history = []\n",
    "\n",
    "\n",
    "for epoch in range(n_epochs):\n",
    "    print('Epoch {}/{}'.format(epoch, n_epochs - 1))\n",
    "    print('-' * 10)\n",
    "    \n",
    "    model.train()\n",
    "    train_loss = 0\n",
    "    val_loss = 0\n",
    "    \n",
    "    scheduler.step()\n",
    "    for batch_idx, (data, _) in tqdm(enumerate(train_loader), desc=\"Iteration\"):\n",
    "        optimizer.zero_grad()\n",
    "        outputs = model(*data)\n",
    "        loss = loss_fn(*outputs)\n",
    "        loss.backward()\n",
    "        optimizer.step()\n",
    "        \n",
    "        train_loss += loss.item()\n",
    "    \n",
    "    model.eval();\n",
    "    with torch.no_grad():\n",
    "        for batch_idx, (data, target) in tqdm(enumerate(val_loader), desc=\"Iteration\"):\n",
    "            outputs = model(*data)\n",
    "            loss = loss_fn(*outputs)\n",
    "            val_loss += loss.item()\n",
    "            \n",
    "    epoch_train_loss = train_loss / train_len\n",
    "    epoch_val_loss = val_loss / val_len\n",
    "    history.append([epoch, epoch_train_loss, epoch_val_loss])\n",
    "    \n",
    "    plotter(history)\n",
    "    \n",
    "    #print('Training Loss: {:.4f}'.format(epoch_train_loss))\n",
    "    #print('Validation Loss: {:.4f}'.format(epoch_val_loss))"
   ]
  }
 ],
 "metadata": {
  "kernelspec": {
   "display_name": "LC_pyTorch",
   "language": "python",
   "name": "lc_pytorch"
  },
  "language_info": {
   "codemirror_mode": {
    "name": "ipython",
    "version": 3
   },
   "file_extension": ".py",
   "mimetype": "text/x-python",
   "name": "python",
   "nbconvert_exporter": "python",
   "pygments_lexer": "ipython3",
   "version": "3.6.9"
  }
 },
 "nbformat": 4,
 "nbformat_minor": 2
}
